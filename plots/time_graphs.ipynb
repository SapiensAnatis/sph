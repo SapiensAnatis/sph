{
 "cells": [
  {
   "cell_type": "code",
   "execution_count": 60,
   "metadata": {},
   "outputs": [],
   "source": [
    "import glob\n",
    "import numpy as np\n",
    "import matplotlib.pyplot as plt\n",
    "from matplotlib import rc\n",
    "import scipy.optimize as sp\n",
    "\n",
    "rc('text', usetex=True)\n",
    "rc('font', size=16)"
   ]
  },
  {
   "cell_type": "code",
   "execution_count": 61,
   "metadata": {},
   "outputs": [],
   "source": [
    "def savepdf_tex(fig, name, **kwargs):\n",
    "    import subprocess, os\n",
    "    fig.savefig(\"temp.svg\", format=\"svg\", **kwargs)\n",
    "    incmd = [\"inkscape\", \"temp.svg\", \"--export-pdf={}.pdf\".format(name),\n",
    "             \"--export-latex\"] #\"--export-ignore-filters\",\n",
    "    subprocess.check_output(incmd)\n",
    "    os.remove(\"temp.pdf\")"
   ]
  },
  {
   "cell_type": "code",
   "execution_count": 62,
   "metadata": {},
   "outputs": [],
   "source": [
    "def ax_b(x, a, b):\n",
    "    return a * np.power(x, b)"
   ]
  },
  {
   "cell_type": "code",
   "execution_count": 63,
   "metadata": {},
   "outputs": [
    {
     "name": "stdout",
     "output_type": "stream",
     "text": [
      "[7000, 10000, 20000, 9000, 8000, 4000, 5000, 1000, 6000, 3000, 2000] [317580.5, 658971.0, 2837998.0, 531888.5, 407721.0, 106490.5, 194189.5, 10727.0, 246526.5, 60099.0, 32890.0]\n",
      "[0.00320642 2.08010356]\n"
     ]
    },
    {
     "name": "stderr",
     "output_type": "stream",
     "text": [
      "Warning: Option --export-pdf= is deprecated\n",
      "\n",
      "(inkscape:25223): Gtk-WARNING **: 18:17:44.441: Theme parsing error: gtk-contained-dark.css:2871:228: Missing closing bracket for :not()\n"
     ]
    },
    {
     "ename": "FileNotFoundError",
     "evalue": "[Errno 2] No such file or directory: 'temp.pdf'",
     "output_type": "error",
     "traceback": [
      "\u001b[0;31m---------------------------------------------------------------------------\u001b[0m",
      "\u001b[0;31mFileNotFoundError\u001b[0m                         Traceback (most recent call last)",
      "\u001b[1;32m/home/jay/Dropbox/University/Y4/PHYM004/sph/plots/time_graphs.ipynb Cell 4'\u001b[0m in \u001b[0;36m<module>\u001b[0;34m\u001b[0m\n\u001b[1;32m     <a href='vscode-notebook-cell:/home/jay/Dropbox/University/Y4/PHYM004/sph/plots/time_graphs.ipynb#ch0000002?line=31'>32</a>\u001b[0m plt\u001b[39m.\u001b[39mloglog()\n\u001b[1;32m     <a href='vscode-notebook-cell:/home/jay/Dropbox/University/Y4/PHYM004/sph/plots/time_graphs.ipynb#ch0000002?line=32'>33</a>\u001b[0m plt\u001b[39m.\u001b[39mlegend()\n\u001b[0;32m---> <a href='vscode-notebook-cell:/home/jay/Dropbox/University/Y4/PHYM004/sph/plots/time_graphs.ipynb#ch0000002?line=34'>35</a>\u001b[0m savepdf_tex(fig, \u001b[39m\"\u001b[39;49m\u001b[39mdensity_time\u001b[39;49m\u001b[39m\"\u001b[39;49m)\n",
      "\u001b[1;32m/home/jay/Dropbox/University/Y4/PHYM004/sph/plots/time_graphs.ipynb Cell 2'\u001b[0m in \u001b[0;36msavepdf_tex\u001b[0;34m(fig, name, **kwargs)\u001b[0m\n\u001b[1;32m      <a href='vscode-notebook-cell:/home/jay/Dropbox/University/Y4/PHYM004/sph/plots/time_graphs.ipynb#ch0000003?line=3'>4</a>\u001b[0m incmd \u001b[39m=\u001b[39m [\u001b[39m\"\u001b[39m\u001b[39minkscape\u001b[39m\u001b[39m\"\u001b[39m, \u001b[39m\"\u001b[39m\u001b[39mtemp.svg\u001b[39m\u001b[39m\"\u001b[39m, \u001b[39m\"\u001b[39m\u001b[39m--export-pdf=\u001b[39m\u001b[39m{}\u001b[39;00m\u001b[39m.pdf\u001b[39m\u001b[39m\"\u001b[39m\u001b[39m.\u001b[39mformat(name),\n\u001b[1;32m      <a href='vscode-notebook-cell:/home/jay/Dropbox/University/Y4/PHYM004/sph/plots/time_graphs.ipynb#ch0000003?line=4'>5</a>\u001b[0m          \u001b[39m\"\u001b[39m\u001b[39m--export-latex\u001b[39m\u001b[39m\"\u001b[39m] \u001b[39m#\"--export-ignore-filters\",\u001b[39;00m\n\u001b[1;32m      <a href='vscode-notebook-cell:/home/jay/Dropbox/University/Y4/PHYM004/sph/plots/time_graphs.ipynb#ch0000003?line=5'>6</a>\u001b[0m subprocess\u001b[39m.\u001b[39mcheck_output(incmd)\n\u001b[0;32m----> <a href='vscode-notebook-cell:/home/jay/Dropbox/University/Y4/PHYM004/sph/plots/time_graphs.ipynb#ch0000003?line=6'>7</a>\u001b[0m os\u001b[39m.\u001b[39;49mremove(\u001b[39m\"\u001b[39;49m\u001b[39mtemp.pdf\u001b[39;49m\u001b[39m\"\u001b[39;49m)\n",
      "\u001b[0;31mFileNotFoundError\u001b[0m: [Errno 2] No such file or directory: 'temp.pdf'"
     ]
    },
    {
     "data": {
      "image/png": "[encoded data removed]",
      "text/plain": [
       "<Figure size 648x324 with 1 Axes>"
      ]
     },
     "metadata": {
      "needs_background": "light"
     },
     "output_type": "display_data"
    }
   ],
   "source": [
    "fig = plt.figure(figsize=(9, 4.5))\n",
    "\n",
    "files = glob.glob(\"../data/1*\")\n",
    "x = []\n",
    "y = []\n",
    "\n",
    "for f in files:\n",
    "    n = int(f[20:-8])\n",
    "    arr = np.loadtxt(f)\n",
    "    x.append(n)\n",
    "    y.append(np.median(arr))\n",
    "\n",
    "print(x, y)\n",
    "\n",
    "label = \"$y = %.3fx^{%.3f}$\"% (popt[0], popt[1])\n",
    "\n",
    "popt, pcov = sp.curve_fit(ax_b, x, y, p0=[1, 2])\n",
    "plt.plot([1000, 20000], ax_b([1000, 20000], popt[0], popt[1]), \n",
    "    linestyle='dashed',\n",
    "    label=label,\n",
    "    color='lightsteelblue')\n",
    "\n",
    "plt.xlabel(\"Number of particles\")\n",
    "plt.ylabel(\"Setup runtime / s\")\n",
    "plt.title(\"Setup runtime as a function of particle count\")\n",
    "\n",
    "plt.scatter(x, y, zorder=100)\n",
    "\n",
    "\n",
    "print(popt)\n",
    "\n",
    "plt.loglog()\n",
    "plt.legend()\n",
    "\n",
    "savepdf_tex(fig, \"density_time\")"
   ]
  }
 ],
 "metadata": {
  "interpreter": {
   "hash": "31f2aee4e71d21fbe5cf8b01ff0e069b9275f58929596ceb00d14d90e3e16cd6"
  },
  "kernelspec": {
   "display_name": "Python 3.9.9 64-bit",
   "language": "python",
   "name": "python3"
  },
  "language_info": {
   "codemirror_mode": {
    "name": "ipython",
    "version": 3
   },
   "file_extension": ".py",
   "mimetype": "text/x-python",
   "name": "python",
   "nbconvert_exporter": "python",
   "pygments_lexer": "ipython3",
   "version": "3.10.2"
  },
  "orig_nbformat": 4
 },
 "nbformat": 4,
 "nbformat_minor": 2
}
