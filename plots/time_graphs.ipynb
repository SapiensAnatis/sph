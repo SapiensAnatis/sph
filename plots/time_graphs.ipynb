{
 "cells": [
  {
   "cell_type": "code",
   "execution_count": 11,
   "metadata": {},
   "outputs": [],
   "source": [
    "import glob\n",
    "import numpy as np\n",
    "import matplotlib.pyplot as plt\n",
    "from matplotlib import rc\n",
    "import scipy.optimize as sp\n",
    "\n",
    "rc('text', usetex=True)\n",
    "rc('font', size=16)\n",
    "rc(\"pgf\", preamble=\"\\n\".join([ # plots will use this preamble\n",
    "        r\"\\usepackage[utf8]{inputenc}\",\n",
    "        r\"\\usepackage[T1]{fontenc}\",\n",
    "        r\"\\usepackage{siunitx}\",\n",
    "        r\"\\usepackage{amsmath}\",\n",
    "   ]))"
   ]
  },
  {
   "cell_type": "code",
   "execution_count": 12,
   "metadata": {},
   "outputs": [],
   "source": [
    "def savepdf_tex(fig, name, **kwargs):\n",
    "    import subprocess, os\n",
    "    fig.savefig(\"temp.svg\", format=\"svg\", **kwargs)\n",
    "    incmd = [\"inkscape\", \"temp.svg\", \"--export-pdf={}.pdf\".format(name),\n",
    "             \"--export-latex\"] #\"--export-ignore-filters\",\n",
    "    subprocess.check_output(incmd)\n",
    "    os.remove(\"temp.svg\")"
   ]
  },
  {
   "cell_type": "code",
   "execution_count": 13,
   "metadata": {},
   "outputs": [],
   "source": [
    "def ax_b(x, a, b):\n",
    "    return a * np.power(x, b)"
   ]
  },
  {
   "cell_type": "code",
   "execution_count": 14,
   "metadata": {},
   "outputs": [
    {
     "name": "stdout",
     "output_type": "stream",
     "text": [
      "[10000, 9000, 3000, 4000, 6000, 20000, 8000, 1000, 5000, 7000, 2000] [0.623993, 0.501464, 0.0486105, 0.09094999999999999, 0.21534899999999998, 4.196037, 0.39520049999999995, 0.0039225, 0.1459315, 0.21580749999999999, 0.019691999999999998]\n",
      "$y = ax^b$\n",
      "[1.52157663e-11 2.65988785e+00]\n"
     ]
    },
    {
     "name": "stderr",
     "output_type": "stream",
     "text": [
      "Warning: Option --export-pdf= is deprecated\n",
      "\n",
      "(inkscape:125542): Gtk-WARNING **: 22:11:16.200: Theme parsing error: gtk-contained-dark.css:2871:228: Missing closing bracket for :not()\n"
     ]
    },
    {
     "data": {
      "image/png": "[encoded data removed]",
      "text/plain": [
       "<Figure size 648x324 with 1 Axes>"
      ]
     },
     "metadata": {
      "needs_background": "light"
     },
     "output_type": "display_data"
    }
   ],
   "source": [
    "fig = plt.figure(figsize=(9, 4.5))\n",
    "\n",
    "files = glob.glob(\"../data/0p3*\")\n",
    "x = []\n",
    "y = []\n",
    "\n",
    "for f in files:\n",
    "    n = int(f[22:-8])\n",
    "    arr = np.loadtxt(f)\n",
    "    x.append(n)\n",
    "    y.append(np.median(arr) *1e-6)\n",
    "\n",
    "print(x, y)\n",
    "\n",
    "\n",
    "popt, pcov = sp.curve_fit(ax_b, x, y, p0=[1, 2])\n",
    "label = \"$y = ax^b$\"\n",
    "print(label)\n",
    "\n",
    "plt.plot([1000, 20000], ax_b([1000, 20000], popt[0], popt[1]), \n",
    "    linestyle='dashed',\n",
    "    label=label,\n",
    "    color='lightsteelblue')\n",
    "\n",
    "plt.xlabel(\"Number of particles\")\n",
    "plt.ylabel(\"Setup runtime / s\")\n",
    "plt.title(\"Setup runtime as a function of particle count\")\n",
    "\n",
    "plt.scatter(x, y, zorder=100, label=\"Data\")\n",
    "\n",
    "\n",
    "print(popt)\n",
    "\n",
    "plt.loglog()\n",
    "plt.legend()\n",
    "\n",
    "savepdf_tex(fig, \"density_time\")"
   ]
  }
 ],
 "metadata": {
  "interpreter": {
   "hash": "31f2aee4e71d21fbe5cf8b01ff0e069b9275f58929596ceb00d14d90e3e16cd6"
  },
  "kernelspec": {
   "display_name": "Python 3.9.9 64-bit",
   "language": "python",
   "name": "python3"
  },
  "language_info": {
   "codemirror_mode": {
    "name": "ipython",
    "version": 3
   },
   "file_extension": ".py",
   "mimetype": "text/x-python",
   "name": "python",
   "nbconvert_exporter": "python",
   "pygments_lexer": "ipython3",
   "version": "3.10.2"
  },
  "orig_nbformat": 4
 },
 "nbformat": 4,
 "nbformat_minor": 2
}
